{
 "cells": [
  {
   "cell_type": "markdown",
   "id": "7ab7b12c-02b6-4351-9758-a65ec24704ec",
   "metadata": {},
   "source": [
    "# SYKモデルでのSpectral Form Factor(SFF)の計算"
   ]
  },
  {
   "cell_type": "code",
   "execution_count": 2,
   "id": "6f937aad-986f-4dd5-90c8-a3ba9fda5198",
   "metadata": {},
   "outputs": [],
   "source": [
    "##### パッケージの読み込み #####\n",
    "using LinearAlgebra  #線形代数パッケージ\n",
    "using SparseArrays  #疎行列化:sparse関数\n",
    "using Random  #rand関数\n",
    "using Plots  #プロット用パッケージ\n",
    "using Statistics  #mean関数\n",
    "using Distributions  #rand関数, Normal関数\n",
    "using ProgressMeter  #進捗バー表示\n",
    "using FLoops  #forループの並列化"
   ]
  },
  {
   "cell_type": "code",
   "execution_count": 3,
   "id": "eefc2448-a556-4273-8b59-7cb02cfd433c",
   "metadata": {},
   "outputs": [],
   "source": [
    "#フェルミオンの数#\n",
    "N=24;\n",
    "Nc=div(N,2);\n",
    "cr=[0 1\n",
    "    0 0];  #生成演算子\n",
    "an=[0 0\n",
    "    1 0];  #消滅演算子\n",
    "id=Matrix(I,2,2);  #2×2単位行列:I\n",
    "id2=[-1 0\n",
    "    0 1];  #id2×id2=Iとなる2×2行列"
   ]
  },
  {
   "cell_type": "code",
   "execution_count": null,
   "id": "bdc969bd-9fd1-465c-9369-681376854872",
   "metadata": {},
   "outputs": [],
   "source": [
    "function Table(M,n)  #mathematicaのTable関数を定義(行列Mをn個並べて配列にする)\n",
    "      A=[]\n",
    "      for i=1:n\n",
    "          push!(A,M)\n",
    "      end\n",
    "      return A\n",
    "  end"
   ]
  },
  {
   "cell_type": "markdown",
   "id": "0536960f-8dea-48e6-b780-dff68ffbe725",
   "metadata": {},
   "source": [
    "マヨラナフェルミオン$\\psi_i \\quad (i=1,...N)$をCrifford代数\n",
    "\\begin{equation}\n",
    "\\{\\psi_i,\\psi_j\\}=\\delta_{ij}\n",
    "\\end{equation}\n",
    "に従う表現行列として定義する。"
   ]
  },
  {
   "cell_type": "markdown",
   "id": "4c3da27c-738d-4559-8d22-ee4e9a1b730d",
   "metadata": {},
   "source": [
    "そのためにディラックフェルミオン$c_i \\quad (i=1,...,N)$を\n",
    "\\begin{equation}\n",
    "\\{c_i,\\bar{c}_j\\}=\\delta_{ij},\\quad \\{c_i,\\bar{c}_j\\}=0,\\quad \\{\\bar{c}_i,\\bar{c}_j\\}=0\n",
    "\\end{equation}\n",
    "という代数に従う表現行列として定義する。（$\\bar{c}_i$は）\\\n",
    "ここで、Pauli行列$\\sigma$を用いるとディラックフェルミオンは\n",
    "\\begin{equation}\n",
    "c_i=\\otimes\n",
    "\\end{equation}\n",
    "と書ける。"
   ]
  },
  {
   "cell_type": "code",
   "execution_count": null,
   "id": "b2ecc3d5-49cb-4b07-9d29-b53ab484c932",
   "metadata": {},
   "outputs": [],
   "source": [
    "function K1(n)\n",
    "      A=push!(Table(id,n-1),cr)\n",
    "      for i=1:Nc-n\n",
    "          A=push!(A,Table(id2,Nc-n)[i])\n",
    "      end\n",
    "      return A\n",
    "  end    \n",
    "  function K2(n)\n",
    "      A=push!(Table(id,n-1),an)\n",
    "      for i=1:Nc-n\n",
    "          A=push!(A,Table(id2,Nc-n)[i])\n",
    "      end\n",
    "      return A\n",
    "  end   \n",
    "function KroneckerProduct1(n)\n",
    "      A=K1(n)[1]\n",
    "      for i=1:Nc-1\n",
    "          A=kron(A,K1(n)[i+1])\n",
    "      end\n",
    "      return A\n",
    "  end        \n",
    "  function KroneckerProduct2(n)\n",
    "      A=K2(n)[1]\n",
    "      for i=1:Nc-1\n",
    "          A=kron(A,K2(n)[i+1])\n",
    "      end\n",
    "      return A\n",
    "  end        \n",
    "  function c(n)\n",
    "      c=sparse(KroneckerProduct1(n))\n",
    "      return c\n",
    "  end\n",
    "  function c_d(n)\n",
    "      cd=sparse(KroneckerProduct2(n))\n",
    "      return cd\n",
    "  end"
   ]
  },
  {
   "cell_type": "markdown",
   "id": "33ed309f-b126-491d-8a67-c8502776b34e",
   "metadata": {},
   "source": [
    "\\begin{equation}\n",
    "\\psi_i=\\frac{1}{\\sqrt{2}}\\left(c_i+\\bar{c}_i\\right)\\quad \\left(\\mathrm{for}\\quad i=1,...,\\frac{N}{2}\\right),\\quad\n",
    "\\psi_i=\\frac{i}{\\sqrt{2}}\\left(-c_i+\\bar{c}_i\\right)\\quad \\left(\\mathrm{for}\\quad i=\\frac{N}{2},...,N\\right)\n",
    "\\end{equation}\n"
   ]
  },
  {
   "cell_type": "code",
   "execution_count": null,
   "id": "ecfacbf2-d6a3-48e8-89ac-27189dd2f2d8",
   "metadata": {},
   "outputs": [],
   "source": [
    "##### ディラックフェルミオンでマヨラナフェルミオンを定義 #####\n",
    "function make_ψ()\n",
    "      ψ=[]\n",
    "      for n in 1:Nc\n",
    "          push!(ψ,1/√2*(c(n)+c_d(n)))\n",
    "      end\n",
    "      for n in 1:Nc\n",
    "          push!(ψ,1/√2*(-im*c(n)+im*c_d(n)))\n",
    "      end\n",
    "      return ψ\n",
    "  end\n",
    "ψ=make_ψ();"
   ]
  },
  {
   "cell_type": "code",
   "execution_count": null,
   "id": "e6aebb61-b185-4acb-af26-641e8cc504ab",
   "metadata": {},
   "outputs": [],
   "source": [
    "function make_ψ_2()  #ψ_iとψ_jの積を先に計算しておく\n",
    "    ψ_2=[ψ[i]*ψ[j] for i in 1:N, j in 1:N]\n",
    "    return ψ_2\n",
    "end\n",
    "ψ_2=make_ψ_2();\n",
    "\n",
    "##### 各種パラメーターの設定 #####\n",
    "q=4;\n",
    "J=1;\n",
    "β=5;\n",
    "samples=1200;\n",
    "\n",
    "##### ハミルトニアンの生成 #####\n",
    "function Hamiltonian()\n",
    "    js=zeros(Float64,(N,N,N,N));\n",
    "    js=rand!(Normal(0,sqrt(J^2*factorial((q-1))/(N^(q-1)))),js);\n",
    "    H=Array(sum(sum(ψ_2[i,j]*sum(sum(js[i,j,k,l]*ψ_2[k,l] for l in k+1:N) for k in j+1:N-1) for j in i+1:N-2) for i in 1:N-3));\n",
    "    return H\n",
    "end"
   ]
  },
  {
   "cell_type": "markdown",
   "id": "dec3f5ae-a73b-4023-9bd7-9a848acdb298",
   "metadata": {},
   "source": [
    "\\begin{equation}\n",
    "\\mathrm{SFF} : g(t;\\beta)=\\left|\\frac{Z(\\beta+it)}{Z(\\beta)}\\right|^2,\n",
    "\\quad Z(\\beta+it)=\\mathrm{Tr}\\left(e^{-\\beta H-iHt}\\right),\n",
    "\\quad Z(\\beta)=\\mathrm{Tr}\\left(e^{-\\beta H}\\right)\n",
    "\\end{equation}"
   ]
  },
  {
   "cell_type": "code",
   "execution_count": null,
   "id": "7d3b73bc-5b46-4248-b670-463a726e1f0a",
   "metadata": {},
   "outputs": [],
   "source": [
    "##### |Z(β+it)|^2 #####\n",
    "function SFF_u(e,β,t)\n",
    "    Z_t=sum(exp.(-(β+im*t)*e))\n",
    "    return Z_t*Z_t'\n",
    "end\n",
    "\n",
    "##### Z(β) #####\n",
    "function get_Z(e,β)\n",
    "    Z=sum(exp.(-β*e))\n",
    "    return Z\n",
    "end"
   ]
  },
  {
   "cell_type": "code",
   "execution_count": null,
   "id": "76fa0cd0-1cc6-4db9-9bc5-95f214c31e3f",
   "metadata": {},
   "outputs": [],
   "source": [
    "##### 時間軸 #####\n",
    "ts = exp10.(range(-1,stop=5,length=10000));   #t=[10^-1,10^5], 10000等分\n",
    "\n",
    "g_u=zeros(Float64,(samples,length(ts)));\n",
    "g_d=zeros(Float64,samples);\n",
    "gs=zeros(samples,length(ts));"
   ]
  },
  {
   "cell_type": "code",
   "execution_count": null,
   "id": "22ef0995-c9c9-4ebc-9273-6ffd801e5af8",
   "metadata": {},
   "outputs": [],
   "source": [
    "function calc_g()\n",
    "    prog=Progress(samples,1);\n",
    "   @floop for  i=1:samples\n",
    "   A=Hamiltonian()\n",
    "   e=eigvals!(A);\n",
    "        g_d[i]=get_Z(e,β);\n",
    "        @inbounds for (j,t) in enumerate(ts)\n",
    "            g_u[i,j]=SFF_u(e,β,t);\n",
    "        end\n",
    "next!(prog)\n",
    "end\n",
    "end\n",
    "println(\"N=$N, \",\"samples=$samples\")\n",
    "@time calc_g()\n",
    "g_u_mean=mean(g_u,dims=1);  #<Z(β+it)*Z(β-it)>\n",
    "g_d_mean=mean(g_d);  #<Z(β)>\n",
    "gs_mean=g_u_mean/(g_d_mean)^2;  #g(t;β) = <|Z(β,t)|^2> / <Z(β)>^2\n",
    "plot(ts,gs_mean[:],xaxis=:log,yaxis=:log,xlabel=\"t\",ylabel=\"g(t)\",title=\"SFF in the SYK(N=$N, $samples samples)\")"
   ]
  },
  {
   "cell_type": "code",
   "execution_count": null,
   "id": "45737565-bd43-4457-bc56-da8c94eae338",
   "metadata": {},
   "outputs": [],
   "source": [
    "################## (ts, gs_mean[:]) プロット用データをtxt形式で保存 ##################\n",
    "out=open(\"data_N=$N\"*\"_$samples\"*\"samples.txt\",\"w\") # ~.txtを作成して開く\n",
    "println(out,\"ts, gs_mean\")\n",
    "Base.print_array(out,hcat(ts,gs_mean[:])) #(ts, gs_mean)を2列にして保存\n",
    "close(out) #ファイルを閉じる"
   ]
  },
  {
   "cell_type": "code",
   "execution_count": null,
   "id": "d0f23c84-4a53-4d85-8974-d0e529bac593",
   "metadata": {},
   "outputs": [],
   "source": [
    "# サンプル保存 #\n",
    "g_u_mean=g_u_mean[:]\n",
    "pushfirst!(g_u_mean,g_d_mean)\n",
    "out3=open(\"data_N=$N\"*\"_$samples\"*\"samples_gs_part1.txt\",\"w\") # ~.txtを作成して開く\n",
    "println(out3,\"1行目はZ(β), 2行目からはZ(β+it)*Z(β-it)\")\n",
    "Base.print_array(out3,g_u_mean) #(ts, gs_mean)を2列にして保存\n",
    "close(out3)"
   ]
  }
 ],
 "metadata": {
  "kernelspec": {
   "display_name": "Julia 1.10.1",
   "language": "julia",
   "name": "julia-1.10"
  },
  "language_info": {
   "file_extension": ".jl",
   "mimetype": "application/julia",
   "name": "julia",
   "version": "1.10.1"
  }
 },
 "nbformat": 4,
 "nbformat_minor": 5
}
